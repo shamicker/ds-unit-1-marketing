{
 "cells": [
  {
   "cell_type": "markdown",
   "metadata": {},
   "source": [
    "![rmotr](https://user-images.githubusercontent.com/7065401/39119486-4718e386-46ec-11e8-9fc3-5250a49ef570.png)\n",
    "<hr style=\"margin-bottom: 40px;\">\n",
    "\n",
    "<img src=\"https://user-images.githubusercontent.com/7065401/39123704-ea58fb38-46f8-11e8-883c-d01f27909c43.jpg\"\n",
    "    style=\"width:300px; float: right; margin: 0 40px 40px 40px;\"></img>\n",
    "\n",
    "# Project assignment: Marketing Analysis\n",
    "\n",
    "Your homework for today is to clean, normalize and analyze a dataset gathered from shopping mall customers in the San Francisco Bay area. It's a survey done in 1987, so you might expect many data-entry related errors."
   ]
  },
  {
   "cell_type": "markdown",
   "metadata": {},
   "source": [
    "![separator2](https://user-images.githubusercontent.com/7065401/39119518-59fa51ce-46ec-11e8-8503-5f8136558f2b.png)\n",
    "\n",
    "### Hands on! "
   ]
  },
  {
   "cell_type": "markdown",
   "metadata": {},
   "source": [
    "The dataset is contained in `data/marketing.csv` along with a file that describes the fields (`data/marketing-description.txt`).\n",
    "\n",
    "What inconsistencies can you find? What are the fields with more issues? How can you transform the data to be expressed in a better way? What variables are related and at what extent?\n",
    "\n",
    "All these are the questions that you should be asking and answering."
   ]
  },
  {
   "cell_type": "code",
   "execution_count": 1,
   "metadata": {},
   "outputs": [],
   "source": [
    "import pandas as pd\n",
    "import numpy as np\n",
    "import matplotlib.pyplot as plt\n",
    "import seaborn as sns\n",
    "\n",
    "%matplotlib inline\n",
    "\n",
    "import warnings\n",
    "warnings.filterwarnings('ignore')"
   ]
  },
  {
   "cell_type": "code",
   "execution_count": 2,
   "metadata": {},
   "outputs": [],
   "source": [
    "sns.set(rc={'figure.figsize': (18, 6)})"
   ]
  },
  {
   "cell_type": "markdown",
   "metadata": {},
   "source": [
    "---"
   ]
  },
  {
   "cell_type": "markdown",
   "metadata": {},
   "source": [
    "<table style=\"width: 100%; border: 4px solid #00F;\">\n",
    "    <tr>\n",
    "        <td width=\"80\"><img src=\"https://user-images.githubusercontent.com/7065401/39122907-870d233a-46f6-11e8-84b1-ede5e3714362.png\"></td>\n",
    "        <td style=\"font-size: 14px; text-align: left\">\n",
    "            <span style=\"color: #00F; font-size: 20px; font-weight: 900; margin-right: 5px;\">1.</span>\n",
    "            Load the dataset `data/marketing.csv` as a Pandas dataframe on a variable called `df`.\n",
    "        </td>\n",
    "    </tr>\n",
    "</table>\n",
    "\n",
    "We don't want you to get stuck with this step. Reading and parsing CSV's with incorrect structure, encoding or separators can be tedious. Only for this step, the solution is provided. Your job is to keep completing the cells that are empty and have the `Your code goes here` comment."
   ]
  },
  {
   "cell_type": "code",
   "execution_count": 305,
   "metadata": {},
   "outputs": [],
   "source": [
    "df = pd.read_csv('data/marketing.csv', sep=';')"
   ]
  },
  {
   "cell_type": "code",
   "execution_count": 306,
   "metadata": {
    "scrolled": false
   },
   "outputs": [
    {
     "data": {
      "text/html": [
       "<div>\n",
       "<style scoped>\n",
       "    .dataframe tbody tr th:only-of-type {\n",
       "        vertical-align: middle;\n",
       "    }\n",
       "\n",
       "    .dataframe tbody tr th {\n",
       "        vertical-align: top;\n",
       "    }\n",
       "\n",
       "    .dataframe thead th {\n",
       "        text-align: right;\n",
       "    }\n",
       "</style>\n",
       "<table border=\"1\" class=\"dataframe\">\n",
       "  <thead>\n",
       "    <tr style=\"text-align: right;\">\n",
       "      <th></th>\n",
       "      <th>Sex</th>\n",
       "      <th>MaritalStatus</th>\n",
       "      <th>Age</th>\n",
       "      <th>Education</th>\n",
       "      <th>Occupation</th>\n",
       "      <th>YearsInSf</th>\n",
       "      <th>DualIncome</th>\n",
       "      <th>HouseholdMembers</th>\n",
       "      <th>Under18</th>\n",
       "      <th>HouseholdStatus</th>\n",
       "      <th>TypeOfHome</th>\n",
       "      <th>EthnicClass</th>\n",
       "      <th>Language</th>\n",
       "      <th>AnualIncome</th>\n",
       "    </tr>\n",
       "  </thead>\n",
       "  <tbody>\n",
       "    <tr>\n",
       "      <th>1</th>\n",
       "      <td>2</td>\n",
       "      <td>1</td>\n",
       "      <td>5.0</td>\n",
       "      <td>4</td>\n",
       "      <td>5</td>\n",
       "      <td>5</td>\n",
       "      <td>3</td>\n",
       "      <td>3</td>\n",
       "      <td>0</td>\n",
       "      <td>Own</td>\n",
       "      <td>1</td>\n",
       "      <td>7</td>\n",
       "      <td>?</td>\n",
       "      <td>76004</td>\n",
       "    </tr>\n",
       "    <tr>\n",
       "      <th>2</th>\n",
       "      <td>Male</td>\n",
       "      <td>1</td>\n",
       "      <td>5.0</td>\n",
       "      <td>5</td>\n",
       "      <td>5</td>\n",
       "      <td>5</td>\n",
       "      <td>3</td>\n",
       "      <td>5</td>\n",
       "      <td>2</td>\n",
       "      <td>Own</td>\n",
       "      <td>1</td>\n",
       "      <td>7</td>\n",
       "      <td>1</td>\n",
       "      <td>76004</td>\n",
       "    </tr>\n",
       "    <tr>\n",
       "      <th>3</th>\n",
       "      <td>2</td>\n",
       "      <td>1</td>\n",
       "      <td>3.0</td>\n",
       "      <td>5</td>\n",
       "      <td>1</td>\n",
       "      <td>5</td>\n",
       "      <td>2</td>\n",
       "      <td>3</td>\n",
       "      <td>1</td>\n",
       "      <td>Rent</td>\n",
       "      <td>3</td>\n",
       "      <td>7</td>\n",
       "      <td>1</td>\n",
       "      <td>34000</td>\n",
       "    </tr>\n",
       "    <tr>\n",
       "      <th>4</th>\n",
       "      <td>2</td>\n",
       "      <td>5</td>\n",
       "      <td>1.0</td>\n",
       "      <td>2</td>\n",
       "      <td>6</td>\n",
       "      <td>5</td>\n",
       "      <td>1</td>\n",
       "      <td>4</td>\n",
       "      <td>2</td>\n",
       "      <td>Live with Parents/Family</td>\n",
       "      <td>1</td>\n",
       "      <td>7</td>\n",
       "      <td>1</td>\n",
       "      <td>9136</td>\n",
       "    </tr>\n",
       "    <tr>\n",
       "      <th>5</th>\n",
       "      <td>2</td>\n",
       "      <td>5</td>\n",
       "      <td>1.0</td>\n",
       "      <td>2</td>\n",
       "      <td>6</td>\n",
       "      <td>3</td>\n",
       "      <td>1</td>\n",
       "      <td>4</td>\n",
       "      <td>2</td>\n",
       "      <td>Live with Parents/Family</td>\n",
       "      <td>1</td>\n",
       "      <td>7</td>\n",
       "      <td>1</td>\n",
       "      <td>9136</td>\n",
       "    </tr>\n",
       "  </tbody>\n",
       "</table>\n",
       "</div>"
      ],
      "text/plain": [
       "    Sex MaritalStatus  Age Education Occupation YearsInSf  DualIncome  \\\n",
       "1     2             1  5.0         4          5         5           3   \n",
       "2  Male             1  5.0         5          5         5           3   \n",
       "3     2             1  3.0         5          1         5           2   \n",
       "4     2             5  1.0         2          6         5           1   \n",
       "5     2             5  1.0         2          6         3           1   \n",
       "\n",
       "  HouseholdMembers  Under18           HouseholdStatus TypeOfHome EthnicClass  \\\n",
       "1                3        0                       Own          1           7   \n",
       "2                5        2                       Own          1           7   \n",
       "3                3        1                      Rent          3           7   \n",
       "4                4        2  Live with Parents/Family          1           7   \n",
       "5                4        2  Live with Parents/Family          1           7   \n",
       "\n",
       "  Language AnualIncome  \n",
       "1        ?       76004  \n",
       "2        1       76004  \n",
       "3        1       34000  \n",
       "4        1        9136  \n",
       "5        1        9136  "
      ]
     },
     "execution_count": 306,
     "metadata": {},
     "output_type": "execute_result"
    }
   ],
   "source": [
    "df.head()"
   ]
  },
  {
   "cell_type": "markdown",
   "metadata": {},
   "source": [
    "---"
   ]
  },
  {
   "cell_type": "markdown",
   "metadata": {},
   "source": [
    "![separator1](https://user-images.githubusercontent.com/7065401/39119545-6d73d9aa-46ec-11e8-98d3-40204614f000.png)\n",
    "\n",
    "<table style=\"width: 100%; border: 4px solid #00F;\">\n",
    "    <tr>\n",
    "        <td width=\"80\"><img src=\"https://user-images.githubusercontent.com/7065401/39122907-870d233a-46f6-11e8-84b1-ede5e3714362.png\"></td>\n",
    "        <td style=\"font-size: 14px; text-align: left\">\n",
    "            <span style=\"color: #00F; font-size: 20px; font-weight: 900; margin-right: 5px;\">2.</span>\n",
    "            Check if there is any null value on the dataframe.\n",
    "        </td>\n",
    "    </tr>\n",
    "</table>\n",
    "\n",
    "> ⚠️ <i>Sometimes null values are represented by special characters, check <b>unique values</b> to find them.</i>"
   ]
  },
  {
   "cell_type": "code",
   "execution_count": 309,
   "metadata": {},
   "outputs": [
    {
     "data": {
      "text/plain": [
       "Sex                  3\n",
       "MaritalStatus        2\n",
       "Age                  2\n",
       "Education            1\n",
       "Occupation          12\n",
       "YearsInSf            0\n",
       "DualIncome           0\n",
       "HouseholdMembers     4\n",
       "Under18              0\n",
       "HouseholdStatus      3\n",
       "TypeOfHome           0\n",
       "EthnicClass          4\n",
       "Language             1\n",
       "AnualIncome          6\n",
       "dtype: int64"
      ]
     },
     "execution_count": 309,
     "metadata": {},
     "output_type": "execute_result"
    }
   ],
   "source": [
    "#Damn, I missed this. \n",
    "df.isnull().sum()"
   ]
  },
  {
   "cell_type": "code",
   "execution_count": 310,
   "metadata": {},
   "outputs": [
    {
     "name": "stdout",
     "output_type": "stream",
     "text": [
      "407     8\n",
      "576     8\n",
      "1113    8\n",
      "2000    8\n",
      "2423    8\n",
      "Name: Sex, dtype: object\n",
      "790     9\n",
      "1535    9\n",
      "2924    9\n",
      "Name: Sex, dtype: object\n"
     ]
    }
   ],
   "source": [
    "a = df['Sex'] == '8'\n",
    "b = df['Sex'] == '9'\n",
    "print(df['Sex'][a])\n",
    "print(df['Sex'][b])"
   ]
  },
  {
   "cell_type": "code",
   "execution_count": 311,
   "metadata": {},
   "outputs": [
    {
     "name": "stdout",
     "output_type": "stream",
     "text": [
      "Sex \n",
      " ['2' 'Male' '8' nan '9']\n",
      "MaritalStatus \n",
      " ['1' '5' '3' '2' '4' '?' nan]\n",
      "Age \n",
      " [ 5.  3.  1.  6.  2.  7.  4. nan]\n",
      "Education \n",
      " ['4' '5' '2' '3' '6' nan '1' '?']\n",
      "Occupation \n",
      " ['5' '1' '6' '8' '9' '3' '2' '?' nan '4' '7']\n",
      "YearsInSf \n",
      " ['5' '3' '4' '2' '1' '?']\n",
      "DualIncome \n",
      " [3 2 1]\n",
      "HouseholdMembers \n",
      " ['3' '5' '4' '2' '1' nan '6' '?' '7' '8' '9']\n",
      "Under18 \n",
      " [0 2 1 3 4 5 6 8 7 9]\n",
      "HouseholdStatus \n",
      " ['Own' 'Rent' 'Live with Parents/Family' nan '?' 'Rental'\n",
      " 'Live with Parents' 'Live with Family' 'Live with Fam']\n",
      "TypeOfHome \n",
      " ['1' '3' '5' '2' '4' '?']\n",
      "EthnicClass \n",
      " ['7' '5' '2' '3' '8' '4' '1' '?' '6' nan]\n",
      "Language \n",
      " ['?' '1' '2' '3' nan]\n",
      "AnualIncome \n",
      " ['76004' '34000' '9136' '66994' '32171' '11703' '21672' '46894'\n",
      " '7600000000000000004' '27591' '19997' '253600' '35500' '7' '7540' '?' nan\n",
      " '91000000000036' '468940000000000000000000000000' '5740' '460' '15500'\n",
      " '2460' '9460' '150500' '75500']\n"
     ]
    }
   ],
   "source": [
    "# Your code goes here\n",
    "for column in df.columns:\n",
    "    print(column,'\\n',df[column].unique())"
   ]
  },
  {
   "cell_type": "markdown",
   "metadata": {},
   "source": [
    "---"
   ]
  },
  {
   "cell_type": "markdown",
   "metadata": {},
   "source": [
    "![separator1](https://user-images.githubusercontent.com/7065401/39119545-6d73d9aa-46ec-11e8-98d3-40204614f000.png)\n",
    "\n",
    "<table style=\"width: 100%; border: 4px solid #00F;\">\n",
    "    <tr>\n",
    "        <td width=\"80\"><img src=\"https://user-images.githubusercontent.com/7065401/39122907-870d233a-46f6-11e8-84b1-ede5e3714362.png\"></td>\n",
    "        <td style=\"font-size: 14px; text-align: left\">\n",
    "            <span style=\"color: #00F; font-size: 20px; font-weight: 900; margin-right: 5px;\">3.</span>\n",
    "            Remove the rows that contain invalid values.\n",
    "        </td>\n",
    "    </tr>\n",
    "</table>"
   ]
  },
  {
   "cell_type": "code",
   "execution_count": 312,
   "metadata": {},
   "outputs": [
    {
     "name": "stdout",
     "output_type": "stream",
     "text": [
      "Sex \n",
      " ['Male' 'Female']\n",
      "MaritalStatus \n",
      " ['1' '5' '3' '2' '4']\n",
      "Age \n",
      " [5. 3. 1. 6. 2. 7. 4.]\n",
      "Education \n",
      " ['5' '2' '4' '3' '6' '1']\n",
      "Occupation \n",
      " ['5' '1' '6' '8' '9' '3' '2' '4' '7']\n",
      "YearsInSf \n",
      " ['5' '3' '4' '2' '1']\n",
      "DualIncome \n",
      " [3 2 1]\n",
      "HouseholdMembers \n",
      " ['5' '3' '4' '2' '1' '6' '7' '9' '8']\n",
      "Under18 \n",
      " [2 1 0 3 4 5 6 8 7 9]\n",
      "HouseholdStatus \n",
      " ['Own' 'Rent' 'Live with Parents/Family' 'Rental' 'Live with Parents'\n",
      " 'Live with Family' 'Live with Fam']\n",
      "TypeOfHome \n",
      " ['1' '3' '5' '2' '4']\n",
      "EthnicClass \n",
      " ['7' '5' '2' '3' '4' '8' '1' '6']\n",
      "Language \n",
      " ['1' '3' '2']\n",
      "AnualIncome \n",
      " ['76004' '34000' '9136' '66994' '32171' '11703' '21672' '46894' '27591'\n",
      " '19997' '253600' '7' '7540' '91000000000036' '5740' '460' '2460' '9460'\n",
      " '150500' '75500']\n",
      "<class 'pandas.core.frame.DataFrame'>\n",
      "Int64Index: 6845 entries, 2 to 8993\n",
      "Data columns (total 14 columns):\n",
      "Sex                 6845 non-null object\n",
      "MaritalStatus       6845 non-null object\n",
      "Age                 6845 non-null float64\n",
      "Education           6845 non-null object\n",
      "Occupation          6845 non-null object\n",
      "YearsInSf           6845 non-null object\n",
      "DualIncome          6845 non-null int64\n",
      "HouseholdMembers    6845 non-null object\n",
      "Under18             6845 non-null int64\n",
      "HouseholdStatus     6845 non-null object\n",
      "TypeOfHome          6845 non-null object\n",
      "EthnicClass         6845 non-null object\n",
      "Language            6845 non-null object\n",
      "AnualIncome         6845 non-null object\n",
      "dtypes: float64(1), int64(2), object(11)\n",
      "memory usage: 802.1+ KB\n"
     ]
    }
   ],
   "source": [
    "# Your code goes here\n",
    "# replace ? with nan\n",
    "df.replace('?', np.nan, inplace=True)\n",
    "\n",
    "# replace Sex column's 8 and 9 with na\n",
    "df['Sex'].replace(['8','9'], np.nan, inplace=True)\n",
    "# replace Sex 2 with Female\n",
    "df['Sex'].replace('2', 'Female', inplace=True)\n",
    "\n",
    "df.dropna(axis=0, how='any', inplace=True)\n",
    "\n",
    "# check it\n",
    "for column in df.columns:\n",
    "    print(column,'\\n',df[column].unique())\n",
    "df.info()"
   ]
  },
  {
   "cell_type": "code",
   "execution_count": 313,
   "metadata": {},
   "outputs": [
    {
     "data": {
      "text/plain": [
       "Sex                 0\n",
       "MaritalStatus       0\n",
       "Age                 0\n",
       "Education           0\n",
       "Occupation          0\n",
       "YearsInSf           0\n",
       "DualIncome          0\n",
       "HouseholdMembers    0\n",
       "Under18             0\n",
       "HouseholdStatus     0\n",
       "TypeOfHome          0\n",
       "EthnicClass         0\n",
       "Language            0\n",
       "AnualIncome         0\n",
       "dtype: int64"
      ]
     },
     "execution_count": 313,
     "metadata": {},
     "output_type": "execute_result"
    }
   ],
   "source": [
    "# And I obviously missed this re-check too\n",
    "df.isnull().sum()"
   ]
  },
  {
   "cell_type": "markdown",
   "metadata": {},
   "source": [
    "---"
   ]
  },
  {
   "cell_type": "markdown",
   "metadata": {},
   "source": [
    "![separator1](https://user-images.githubusercontent.com/7065401/39119545-6d73d9aa-46ec-11e8-98d3-40204614f000.png)\n",
    "\n",
    "<table style=\"width: 100%; border: 4px solid #00F;\">\n",
    "    <tr>\n",
    "        <td width=\"80\"><img src=\"https://user-images.githubusercontent.com/7065401/39122907-870d233a-46f6-11e8-84b1-ede5e3714362.png\"></td>\n",
    "        <td style=\"font-size: 14px; text-align: left\">\n",
    "            <span style=\"color: #00F; font-size: 20px; font-weight: 900; margin-right: 5px;\">4.</span>\n",
    "            Show <b>basic descriptive statistics</b> (mean, mix, max...) of the data.\n",
    "        </td>\n",
    "    </tr>\n",
    "</table>"
   ]
  },
  {
   "cell_type": "code",
   "execution_count": 294,
   "metadata": {},
   "outputs": [
    {
     "name": "stdout",
     "output_type": "stream",
     "text": [
      "               Age   DualIncome      Under18\n",
      "count  6845.000000  6845.000000  6845.000000\n",
      "mean      3.407889     1.549744     0.688240\n",
      "std       1.609857     0.737680     1.082828\n",
      "min       1.000000     1.000000     0.000000\n",
      "25%       2.000000     1.000000     0.000000\n",
      "50%       3.000000     1.000000     0.000000\n",
      "75%       4.000000     2.000000     1.000000\n",
      "max       7.000000     3.000000     9.000000\n"
     ]
    }
   ],
   "source": [
    "# Your code goes here\n",
    "# # convert string numbers to ints or floats\n",
    "# for column in ['HouseholdMembers', 'Under18', 'AnualIncome']:\n",
    "#     df[column] = pd.to_numeric(df[column], errors='ignore')\n",
    "\n",
    "# check it    \n",
    "print(df.describe())"
   ]
  },
  {
   "cell_type": "markdown",
   "metadata": {},
   "source": [
    "---"
   ]
  },
  {
   "cell_type": "markdown",
   "metadata": {},
   "source": [
    "![separator1](https://user-images.githubusercontent.com/7065401/39119545-6d73d9aa-46ec-11e8-98d3-40204614f000.png)\n",
    "\n",
    "<table style=\"width: 100%; border: 4px solid #00F;\">\n",
    "    <tr>\n",
    "        <td width=\"80\"><img src=\"https://user-images.githubusercontent.com/7065401/39122907-870d233a-46f6-11e8-84b1-ede5e3714362.png\"></td>\n",
    "        <td style=\"font-size: 14px; text-align: left\">\n",
    "            <span style=\"color: #00F; font-size: 20px; font-weight: 900; margin-right: 5px;\">5.</span>\n",
    "            Show a boxplot of `AnualIncome` variable.\n",
    "        </td>\n",
    "    </tr>\n",
    "</table>"
   ]
  },
  {
   "cell_type": "code",
   "execution_count": 316,
   "metadata": {},
   "outputs": [
    {
     "data": {
      "text/plain": [
       "<matplotlib.axes._subplots.AxesSubplot at 0x1e7e35b91d0>"
      ]
     },
     "execution_count": 316,
     "metadata": {},
     "output_type": "execute_result"
    },
    {
     "data": {
      "image/png": "[encoded data removed]",
      "text/plain": [
       "<Figure size 1296x432 with 1 Axes>"
      ]
     },
     "metadata": {},
     "output_type": "display_data"
    }
   ],
   "source": [
    "# Ah! If you use sns.boxplot, you don't need the values to be numerical!\n",
    "# Set the data to be the Series (column), and to_frame() sets it to a new dataframe and plots it!\n",
    "# from https://stackoverflow.com/questions/51838479/how-to-convert-the-data-structure-obtained-after-performing-a-groupby-operation\n",
    "\n",
    "sns.boxplot(data=df['AnualIncome'].to_frame())"
   ]
  },
  {
   "cell_type": "code",
   "execution_count": 320,
   "metadata": {
    "scrolled": false
   },
   "outputs": [
    {
     "data": {
      "text/plain": [
       "<matplotlib.axes._subplots.AxesSubplot at 0x1e7de9992e8>"
      ]
     },
     "execution_count": 320,
     "metadata": {},
     "output_type": "execute_result"
    },
    {
     "data": {
      "image/png": "[encoded data removed]",
      "text/plain": [
       "<Figure size 1296x432 with 1 Axes>"
      ]
     },
     "metadata": {},
     "output_type": "display_data"
    }
   ],
   "source": [
    "# Your code goes here\n",
    "df['AnualIncomeAsInts'] = pd.to_numeric(df['AnualIncome'])\n",
    "df.boxplot('AnualIncomeAsInts')"
   ]
  },
  {
   "cell_type": "markdown",
   "metadata": {},
   "source": [
    "---"
   ]
  },
  {
   "cell_type": "markdown",
   "metadata": {},
   "source": [
    "![separator1](https://user-images.githubusercontent.com/7065401/39119545-6d73d9aa-46ec-11e8-98d3-40204614f000.png)\n",
    "\n",
    "<table style=\"width: 100%; border: 4px solid #00F;\">\n",
    "    <tr>\n",
    "        <td width=\"80\"><img src=\"https://user-images.githubusercontent.com/7065401/39122907-870d233a-46f6-11e8-84b1-ede5e3714362.png\"></td>\n",
    "        <td style=\"font-size: 14px; text-align: left\">\n",
    "            <span style=\"color: #00F; font-size: 20px; font-weight: 900; margin-right: 5px;\">6.</span>\n",
    "            Identify outlier values on `AnualIncome` and remove them.\n",
    "        </td>\n",
    "    </tr>\n",
    "</table>"
   ]
  },
  {
   "cell_type": "code",
   "execution_count": 321,
   "metadata": {},
   "outputs": [
    {
     "data": {
      "text/plain": [
       "<matplotlib.axes._subplots.AxesSubplot at 0x1e7de4fdcc0>"
      ]
     },
     "execution_count": 321,
     "metadata": {},
     "output_type": "execute_result"
    },
    {
     "data": {
      "image/png": "[encoded data removed]",
      "text/plain": [
       "<Figure size 1296x432 with 1 Axes>"
      ]
     },
     "metadata": {},
     "output_type": "display_data"
    }
   ],
   "source": [
    "# Using sns. Yeah!\n",
    "sns.boxplot(data=df['AnualIncome'].to_frame(), showfliers=False)"
   ]
  },
  {
   "cell_type": "code",
   "execution_count": 322,
   "metadata": {},
   "outputs": [
    {
     "data": {
      "text/plain": [
       "<matplotlib.axes._subplots.AxesSubplot at 0x1e7de5d31d0>"
      ]
     },
     "execution_count": 322,
     "metadata": {},
     "output_type": "execute_result"
    },
    {
     "data": {
      "image/png": "[encoded data removed]",
      "text/plain": [
       "<Figure size 1296x432 with 1 Axes>"
      ]
     },
     "metadata": {},
     "output_type": "display_data"
    }
   ],
   "source": [
    "# Your code goes here\n",
    "\n",
    "df.boxplot('AnualIncomeAsInts', showfliers=False)"
   ]
  },
  {
   "cell_type": "markdown",
   "metadata": {},
   "source": [
    "---"
   ]
  },
  {
   "cell_type": "code",
   "execution_count": 323,
   "metadata": {},
   "outputs": [
    {
     "name": "stdout",
     "output_type": "stream",
     "text": [
      "<class 'pandas.core.frame.DataFrame'>\n",
      "Int64Index: 6845 entries, 2 to 8993\n",
      "Data columns (total 15 columns):\n",
      "Sex                  6845 non-null object\n",
      "MaritalStatus        6845 non-null object\n",
      "Age                  6845 non-null float64\n",
      "Education            6845 non-null object\n",
      "Occupation           6845 non-null object\n",
      "YearsInSf            6845 non-null object\n",
      "DualIncome           6845 non-null int64\n",
      "HouseholdMembers     6845 non-null object\n",
      "Under18              6845 non-null int64\n",
      "HouseholdStatus      6845 non-null object\n",
      "TypeOfHome           6845 non-null object\n",
      "EthnicClass          6845 non-null object\n",
      "Language             6845 non-null object\n",
      "AnualIncome          6845 non-null object\n",
      "AnualIncomeAsInts    6845 non-null int64\n",
      "dtypes: float64(1), int64(3), object(11)\n",
      "memory usage: 1.1+ MB\n"
     ]
    }
   ],
   "source": [
    "# Verify the Solution and I have the same number of data!\n",
    "df.info()"
   ]
  },
  {
   "cell_type": "markdown",
   "metadata": {},
   "source": [
    "![separator1](https://user-images.githubusercontent.com/7065401/39119545-6d73d9aa-46ec-11e8-98d3-40204614f000.png)\n",
    "\n",
    "<table style=\"width: 100%; border: 4px solid #00F;\">\n",
    "    <tr>\n",
    "        <td width=\"80\"><img src=\"https://user-images.githubusercontent.com/7065401/39122907-870d233a-46f6-11e8-84b1-ede5e3714362.png\"></td>\n",
    "        <td style=\"font-size: 14px; text-align: left\">\n",
    "            <span style=\"color: #00F; font-size: 20px; font-weight: 900; margin-right: 5px;\">7.</span>\n",
    "            Show two different `countplot` for `Sex` and `Education` variables.\n",
    "        </td>\n",
    "    </tr>\n",
    "</table>"
   ]
  },
  {
   "cell_type": "code",
   "execution_count": 297,
   "metadata": {
    "scrolled": false
   },
   "outputs": [
    {
     "data": {
      "text/plain": [
       "<matplotlib.axes._subplots.AxesSubplot at 0x1e7e2e00ef0>"
      ]
     },
     "execution_count": 297,
     "metadata": {},
     "output_type": "execute_result"
    },
    {
     "data": {
      "image/png": "[encoded data removed]",
      "text/plain": [
       "<Figure size 1296x432 with 1 Axes>"
      ]
     },
     "metadata": {},
     "output_type": "display_data"
    }
   ],
   "source": [
    "# Your code goes here\n",
    "\n",
    "sns.countplot(x='Sex', data=df)"
   ]
  },
  {
   "cell_type": "code",
   "execution_count": 298,
   "metadata": {},
   "outputs": [
    {
     "data": {
      "text/plain": [
       "<matplotlib.axes._subplots.AxesSubplot at 0x1e7e2db80f0>"
      ]
     },
     "execution_count": 298,
     "metadata": {},
     "output_type": "execute_result"
    },
    {
     "data": {
      "image/png": "[encoded data removed]",
      "text/plain": [
       "<Figure size 1296x432 with 1 Axes>"
      ]
     },
     "metadata": {},
     "output_type": "display_data"
    }
   ],
   "source": [
    "# Your code goes here\n",
    "\n",
    "sns.countplot('Education', data=df)"
   ]
  },
  {
   "cell_type": "markdown",
   "metadata": {},
   "source": [
    "---"
   ]
  },
  {
   "cell_type": "markdown",
   "metadata": {},
   "source": [
    "![separator1](https://user-images.githubusercontent.com/7065401/39119545-6d73d9aa-46ec-11e8-98d3-40204614f000.png)\n",
    "\n",
    "<table style=\"width: 100%; border: 4px solid #00F;\">\n",
    "    <tr>\n",
    "        <td width=\"80\"><img src=\"https://user-images.githubusercontent.com/7065401/39122907-870d233a-46f6-11e8-84b1-ede5e3714362.png\"></td>\n",
    "        <td style=\"font-size: 14px; text-align: left\">\n",
    "            <span style=\"color: #00F; font-size: 20px; font-weight: 900; margin-right: 5px;\">8.</span>\n",
    "            Show only `Sex` and `HouseholdStatus` of the first 20 observations.\n",
    "        </td>\n",
    "    </tr>\n",
    "</table>"
   ]
  },
  {
   "cell_type": "code",
   "execution_count": 299,
   "metadata": {},
   "outputs": [
    {
     "data": {
      "text/html": [
       "<div>\n",
       "<style scoped>\n",
       "    .dataframe tbody tr th:only-of-type {\n",
       "        vertical-align: middle;\n",
       "    }\n",
       "\n",
       "    .dataframe tbody tr th {\n",
       "        vertical-align: top;\n",
       "    }\n",
       "\n",
       "    .dataframe thead th {\n",
       "        text-align: right;\n",
       "    }\n",
       "</style>\n",
       "<table border=\"1\" class=\"dataframe\">\n",
       "  <thead>\n",
       "    <tr style=\"text-align: right;\">\n",
       "      <th></th>\n",
       "      <th>Sex</th>\n",
       "      <th>HouseholdStatus</th>\n",
       "    </tr>\n",
       "  </thead>\n",
       "  <tbody>\n",
       "    <tr>\n",
       "      <th>2</th>\n",
       "      <td>Male</td>\n",
       "      <td>Own</td>\n",
       "    </tr>\n",
       "    <tr>\n",
       "      <th>3</th>\n",
       "      <td>Female</td>\n",
       "      <td>Rent</td>\n",
       "    </tr>\n",
       "    <tr>\n",
       "      <th>4</th>\n",
       "      <td>Female</td>\n",
       "      <td>Live with Parents/Family</td>\n",
       "    </tr>\n",
       "    <tr>\n",
       "      <th>5</th>\n",
       "      <td>Female</td>\n",
       "      <td>Live with Parents/Family</td>\n",
       "    </tr>\n",
       "    <tr>\n",
       "      <th>6</th>\n",
       "      <td>Male</td>\n",
       "      <td>Own</td>\n",
       "    </tr>\n",
       "    <tr>\n",
       "      <th>7</th>\n",
       "      <td>Male</td>\n",
       "      <td>Rent</td>\n",
       "    </tr>\n",
       "    <tr>\n",
       "      <th>8</th>\n",
       "      <td>Male</td>\n",
       "      <td>Rent</td>\n",
       "    </tr>\n",
       "    <tr>\n",
       "      <th>9</th>\n",
       "      <td>Male</td>\n",
       "      <td>Rent</td>\n",
       "    </tr>\n",
       "    <tr>\n",
       "      <th>10</th>\n",
       "      <td>Male</td>\n",
       "      <td>Rent</td>\n",
       "    </tr>\n",
       "    <tr>\n",
       "      <th>11</th>\n",
       "      <td>Male</td>\n",
       "      <td>Rent</td>\n",
       "    </tr>\n",
       "    <tr>\n",
       "      <th>12</th>\n",
       "      <td>Female</td>\n",
       "      <td>Own</td>\n",
       "    </tr>\n",
       "    <tr>\n",
       "      <th>13</th>\n",
       "      <td>Female</td>\n",
       "      <td>Own</td>\n",
       "    </tr>\n",
       "    <tr>\n",
       "      <th>14</th>\n",
       "      <td>Female</td>\n",
       "      <td>Rent</td>\n",
       "    </tr>\n",
       "    <tr>\n",
       "      <th>16</th>\n",
       "      <td>Female</td>\n",
       "      <td>Own</td>\n",
       "    </tr>\n",
       "    <tr>\n",
       "      <th>17</th>\n",
       "      <td>Female</td>\n",
       "      <td>Rent</td>\n",
       "    </tr>\n",
       "    <tr>\n",
       "      <th>19</th>\n",
       "      <td>Female</td>\n",
       "      <td>Rent</td>\n",
       "    </tr>\n",
       "    <tr>\n",
       "      <th>21</th>\n",
       "      <td>Male</td>\n",
       "      <td>Rent</td>\n",
       "    </tr>\n",
       "    <tr>\n",
       "      <th>23</th>\n",
       "      <td>Male</td>\n",
       "      <td>Own</td>\n",
       "    </tr>\n",
       "    <tr>\n",
       "      <th>24</th>\n",
       "      <td>Female</td>\n",
       "      <td>Rent</td>\n",
       "    </tr>\n",
       "    <tr>\n",
       "      <th>25</th>\n",
       "      <td>Female</td>\n",
       "      <td>Live with Parents/Family</td>\n",
       "    </tr>\n",
       "  </tbody>\n",
       "</table>\n",
       "</div>"
      ],
      "text/plain": [
       "       Sex           HouseholdStatus\n",
       "2     Male                       Own\n",
       "3   Female                      Rent\n",
       "4   Female  Live with Parents/Family\n",
       "5   Female  Live with Parents/Family\n",
       "6     Male                       Own\n",
       "7     Male                      Rent\n",
       "8     Male                      Rent\n",
       "9     Male                      Rent\n",
       "10    Male                      Rent\n",
       "11    Male                      Rent\n",
       "12  Female                       Own\n",
       "13  Female                       Own\n",
       "14  Female                      Rent\n",
       "16  Female                       Own\n",
       "17  Female                      Rent\n",
       "19  Female                      Rent\n",
       "21    Male                      Rent\n",
       "23    Male                       Own\n",
       "24  Female                      Rent\n",
       "25  Female  Live with Parents/Family"
      ]
     },
     "execution_count": 299,
     "metadata": {},
     "output_type": "execute_result"
    }
   ],
   "source": [
    "# Your code goes here\n",
    "\n",
    "df[['Sex','HouseholdStatus']].head(20)"
   ]
  },
  {
   "cell_type": "markdown",
   "metadata": {},
   "source": [
    "---"
   ]
  },
  {
   "cell_type": "markdown",
   "metadata": {},
   "source": [
    "![separator1](https://user-images.githubusercontent.com/7065401/39119545-6d73d9aa-46ec-11e8-98d3-40204614f000.png)\n",
    "\n",
    "<table style=\"width: 100%; border: 4px solid #00F;\">\n",
    "    <tr>\n",
    "        <td width=\"80\"><img src=\"https://user-images.githubusercontent.com/7065401/39122907-870d233a-46f6-11e8-84b1-ede5e3714362.png\"></td>\n",
    "        <td style=\"font-size: 14px; text-align: left\">\n",
    "            <span style=\"color: #00F; font-size: 20px; font-weight: 900; margin-right: 5px;\">9.</span>\n",
    "            Show only `MaritalStatus` of the observations in position 247.\n",
    "        </td>\n",
    "    </tr>\n",
    "</table>"
   ]
  },
  {
   "cell_type": "code",
   "execution_count": 300,
   "metadata": {},
   "outputs": [
    {
     "data": {
      "text/plain": [
       "'1'"
      ]
     },
     "execution_count": 300,
     "metadata": {},
     "output_type": "execute_result"
    }
   ],
   "source": [
    "# Your code goes here\n",
    "\n",
    "df.loc[247,'MaritalStatus']"
   ]
  },
  {
   "cell_type": "markdown",
   "metadata": {},
   "source": [
    "---"
   ]
  },
  {
   "cell_type": "markdown",
   "metadata": {},
   "source": [
    "![separator1](https://user-images.githubusercontent.com/7065401/39119545-6d73d9aa-46ec-11e8-98d3-40204614f000.png)\n",
    "\n",
    "<table style=\"width: 100%; border: 4px solid #00F;\">\n",
    "    <tr>\n",
    "        <td width=\"80\"><img src=\"https://user-images.githubusercontent.com/7065401/39122907-870d233a-46f6-11e8-84b1-ede5e3714362.png\"></td>\n",
    "        <td style=\"font-size: 14px; text-align: left\">\n",
    "            <span style=\"color: #00F; font-size: 20px; font-weight: 900; margin-right: 5px;\">10.</span>\n",
    "            How many males answered the survey?\n",
    "        </td>\n",
    "    </tr>\n",
    "</table>"
   ]
  },
  {
   "cell_type": "code",
   "execution_count": 301,
   "metadata": {},
   "outputs": [
    {
     "data": {
      "text/plain": [
       "3051"
      ]
     },
     "execution_count": 301,
     "metadata": {},
     "output_type": "execute_result"
    }
   ],
   "source": [
    "# Your code goes here\n",
    "\n",
    "m = df['Sex'] == 'Male'\n",
    "df['Sex'][m].count()"
   ]
  },
  {
   "cell_type": "markdown",
   "metadata": {},
   "source": [
    "---"
   ]
  },
  {
   "cell_type": "markdown",
   "metadata": {},
   "source": [
    "![separator1](https://user-images.githubusercontent.com/7065401/39119545-6d73d9aa-46ec-11e8-98d3-40204614f000.png)\n",
    "\n",
    "<table style=\"width: 100%; border: 4px solid #00F;\">\n",
    "    <tr>\n",
    "        <td width=\"80\"><img src=\"https://user-images.githubusercontent.com/7065401/39122907-870d233a-46f6-11e8-84b1-ede5e3714362.png\"></td>\n",
    "        <td style=\"font-size: 14px; text-align: left\">\n",
    "            <span style=\"color: #00F; font-size: 20px; font-weight: 900; margin-right: 5px;\">11.</span>\n",
    "            How many people \"Live with Parents/Family\"?\n",
    "        </td>\n",
    "    </tr>\n",
    "</table>\n",
    "\n",
    "> ⚠️ <i>Remember \"Live with Parents/Family\" is on `HouseholdStatus` column.</i>"
   ]
  },
  {
   "cell_type": "code",
   "execution_count": 302,
   "metadata": {},
   "outputs": [
    {
     "data": {
      "text/plain": [
       "1396"
      ]
     },
     "execution_count": 302,
     "metadata": {},
     "output_type": "execute_result"
    }
   ],
   "source": [
    "# Your code goes here\n",
    "\n",
    "df['HouseholdStatus'][df['HouseholdStatus'] == 'Live with Parents/Family'].count()"
   ]
  },
  {
   "cell_type": "markdown",
   "metadata": {},
   "source": [
    "---"
   ]
  },
  {
   "cell_type": "markdown",
   "metadata": {},
   "source": [
    "![separator2](https://user-images.githubusercontent.com/7065401/39119518-59fa51ce-46ec-11e8-8503-5f8136558f2b.png)\n",
    "\n",
    "### Optional exercises"
   ]
  },
  {
   "cell_type": "markdown",
   "metadata": {},
   "source": [
    "![separator1](https://user-images.githubusercontent.com/7065401/39119545-6d73d9aa-46ec-11e8-98d3-40204614f000.png)\n",
    "\n",
    "<table style=\"width: 100%; border: 4px solid #00F;\">\n",
    "    <tr>\n",
    "        <td width=\"80\"><img src=\"https://user-images.githubusercontent.com/7065401/39122907-870d233a-46f6-11e8-84b1-ede5e3714362.png\"></td>\n",
    "        <td style=\"font-size: 14px; text-align: left\">\n",
    "            <span style=\"color: #00F; font-size: 20px; font-weight: 900; margin-right: 5px;\">12.</span>\n",
    "            What is the most common `EthnicClass`?\n",
    "        </td>\n",
    "    </tr>\n",
    "</table>"
   ]
  },
  {
   "cell_type": "code",
   "execution_count": 303,
   "metadata": {},
   "outputs": [
    {
     "name": "stdout",
     "output_type": "stream",
     "text": [
      "Ethnic Class 7 corresponds with \"White\".\n"
     ]
    },
    {
     "data": {
      "image/png": "[encoded data removed]",
      "text/plain": [
       "<Figure size 1296x432 with 1 Axes>"
      ]
     },
     "metadata": {},
     "output_type": "display_data"
    }
   ],
   "source": [
    "# Your code goes here\n",
    "\n",
    "sns.countplot('EthnicClass', data=df)\n",
    "print('Ethnic Class 7 corresponds with \"White\".')"
   ]
  },
  {
   "cell_type": "markdown",
   "metadata": {},
   "source": [
    "---"
   ]
  },
  {
   "cell_type": "markdown",
   "metadata": {},
   "source": [
    "![separator1](https://user-images.githubusercontent.com/7065401/39119545-6d73d9aa-46ec-11e8-98d3-40204614f000.png)\n",
    "\n",
    "<table style=\"width: 100%; border: 4px solid #00F;\">\n",
    "    <tr>\n",
    "        <td width=\"80\"><img src=\"https://user-images.githubusercontent.com/7065401/39122907-870d233a-46f6-11e8-84b1-ede5e3714362.png\"></td>\n",
    "        <td style=\"font-size: 14px; text-align: left\">\n",
    "            <span style=\"color: #00F; font-size: 20px; font-weight: 900; margin-right: 5px;\">13.</span>\n",
    "            Which occupation gets the highest anual income?\n",
    "        </td>\n",
    "    </tr>\n",
    "</table>"
   ]
  },
  {
   "cell_type": "code",
   "execution_count": 304,
   "metadata": {},
   "outputs": [
    {
     "name": "stdout",
     "output_type": "stream",
     "text": [
      "Occupation 6 is \"Student, HS or College\".\n"
     ]
    },
    {
     "data": {
      "image/png": "[encoded data removed]",
      "text/plain": [
       "<Figure size 1296x432 with 1 Axes>"
      ]
     },
     "metadata": {},
     "output_type": "display_data"
    }
   ],
   "source": [
    "# parse AnualIncome as int\n",
    "df['AnualIncome'] = df['AnualIncome'].apply(int)\n",
    "\n",
    "# Your code goes here\n",
    "df.groupby('Occupation').AnualIncome.sum().plot(kind='bar')\n",
    "\n",
    "print('Occupation 6 is \"Student, HS or College\".')"
   ]
  },
  {
   "cell_type": "markdown",
   "metadata": {},
   "source": [
    "![separator2](https://user-images.githubusercontent.com/7065401/39119518-59fa51ce-46ec-11e8-8503-5f8136558f2b.png)"
   ]
  },
  {
   "cell_type": "code",
   "execution_count": null,
   "metadata": {},
   "outputs": [],
   "source": []
  }
 ],
 "metadata": {
  "kernelspec": {
   "display_name": "Python 3",
   "language": "python",
   "name": "python3"
  },
  "language_info": {
   "codemirror_mode": {
    "name": "ipython",
    "version": 3
   },
   "file_extension": ".py",
   "mimetype": "text/x-python",
   "name": "python",
   "nbconvert_exporter": "python",
   "pygments_lexer": "ipython3",
   "version": "3.7.3"
  }
 },
 "nbformat": 4,
 "nbformat_minor": 2
}
